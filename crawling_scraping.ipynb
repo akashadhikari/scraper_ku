{
 "cells": [
  {
   "cell_type": "markdown",
   "id": "2449345d",
   "metadata": {},
   "source": [
    "### Web crawling:\n",
    "\n",
    "\n",
    "Choose any Nepali online news\n",
    "website and crawl all the links and hyperlinks within the website. Based on the\n",
    "links and hyperlinks, conclude that the website is a “hub” or an “authority”.\n",
    "Please consider repeated counts of the same link/hyperlink just as one\n",
    "hyperlink."
   ]
  },
  {
   "cell_type": "code",
   "execution_count": 1,
   "id": "73b61130",
   "metadata": {},
   "outputs": [],
   "source": [
    "import requests\n",
    "from bs4 import BeautifulSoup\n",
    "from urllib.parse import urlparse, urljoin"
   ]
  },
  {
   "cell_type": "code",
   "execution_count": 2,
   "id": "0a30759d",
   "metadata": {},
   "outputs": [],
   "source": [
    "# initialize the set of links (unique links)\n",
    "internal_urls = set()\n",
    "external_urls = set()\n",
    "\n",
    "def is_valid_url(url):\n",
    "    \"\"\"\n",
    "    Checks whether `url` is a valid URL.\n",
    "    \"\"\"\n",
    "    parsed = urlparse(url)\n",
    "    return bool(parsed.netloc) and bool(parsed.scheme)"
   ]
  },
  {
   "cell_type": "code",
   "execution_count": 3,
   "id": "7877707a",
   "metadata": {},
   "outputs": [],
   "source": [
    "def get_all_webpage_link(url):\n",
    "    \"\"\"\n",
    "    Returns all URLs that is found on `url` in which it belongs to the same website\n",
    "    \"\"\"\n",
    "    # all URLs of `url`\n",
    "    urls = set()\n",
    "    # domain name of the URL without the protocol\n",
    "    domain_name = urlparse(url).netloc[4:]\n",
    "    # domain_name = 'ekantipur.com'\n",
    "    soup = BeautifulSoup(requests.get(url).content, \"html.parser\")\n",
    "    for a_tag in soup.findAll(\"a\"):\n",
    "        href = a_tag.attrs.get(\"href\")\n",
    "        if href == \"\" or href is None:\n",
    "            # href empty tag\n",
    "            continue\n",
    "        # join the URL if it's relative (not absolute link)\n",
    "        href = urljoin(url, href)\n",
    "        parsed_href = urlparse(href)\n",
    "        # remove URL GET parameters, URL fragments, etc.\n",
    "        href = parsed_href.scheme + \"://\" + parsed_href.netloc + parsed_href.path\n",
    "        if not is_valid_url(href):\n",
    "            # not a valid URL\n",
    "            continue\n",
    "        if href in internal_urls:\n",
    "            # already in the set\n",
    "            continue\n",
    "        if domain_name not in href:\n",
    "            # external link\n",
    "            # import ipdb;ipdb.set_trace()\n",
    "            if href not in external_urls:\n",
    "                print(f\"[!] External link: {href}\")\n",
    "                external_urls.add(href)\n",
    "            continue\n",
    "        print(f\"[*] Internal link: {href}\")\n",
    "        urls.add(href)\n",
    "        internal_urls.add(href)\n",
    "    return urls"
   ]
  },
  {
   "cell_type": "code",
   "execution_count": 4,
   "id": "7ada1e78",
   "metadata": {},
   "outputs": [
    {
     "name": "stdout",
     "output_type": "stream",
     "text": [
      "[*] Crawling: https://www.ekantipur.com\n",
      "[*] Internal link: https://www.ekantipur.com/search/2022\n",
      "[*] Internal link: https://www.ekantipur.com/\n",
      "[*] Internal link: https://ekantipur.com/news\n",
      "[*] Internal link: https://ekantipur.com/business\n",
      "[*] Internal link: https://ekantipur.com/opinion\n",
      "[*] Internal link: https://ekantipur.com/sports\n",
      "[*] Internal link: https://ekantipur.com/national\n",
      "[*] Internal link: https://ekantipur.com/koseli\n",
      "[*] Internal link: https://ekantipur.com/world\n",
      "[*] Internal link: https://ekantipur.com/entertainment\n",
      "[*] Internal link: https://ekantipur.com/blog\n",
      "[*] Internal link: https://ekantipur.com/diaspora\n",
      "[*] Internal link: https://ekantipur.com/feature\n",
      "[*] Internal link: https://ekantipur.com/photo_feature\n",
      "[*] Internal link: https://ekantipur.com/lifestyle\n",
      "[*] Internal link: https://ekantipur.com/literature\n",
      "[*] Internal link: https://ekantipur.com/technology\n",
      "[*] Internal link: https://ekantipur.com/health\n",
      "[*] Internal link: https://ekantipur.com/video\n",
      "[*] Internal link: https://ekantipur.com/pathakmanch\n",
      "[*] Internal link: https://ekantipur.com/Interview\n",
      "[*] Internal link: https://ekantipur.com/Art\n",
      "[*] Internal link: https://ekantipur.com/Other\n",
      "[*] Internal link: https://ekantipur.com/DASHAIN-ESPICAL\n",
      "[*] Internal link: https://ekantipur.com/market\n",
      "[*] Internal link: http://epaper.ekantipur.com/kantipur/2022-02-18/1\n",
      "[*] Internal link: http://epaper-archive.ekantipur.com/\n",
      "[*] Internal link: https://ekantipur.com/\n",
      "[*] Internal link: https://www.ekantipur.com\n",
      "[*] Internal link: https://ekantipur.com/tag/id-1518\n",
      "[*] Internal link: https://ekantipur.com/tag/id-1538\n",
      "[*] Internal link: https://ekantipur.com/tag/id-1537\n",
      "[*] Internal link: https://ekantipur.com/tag/id-1527\n",
      "[*] Internal link: https://ekantipur.com/tag/id-1425\n",
      "[*] Internal link: https://ekantipur.com/tag/id-1530\n",
      "[*] Internal link: https://ekantipur.com/tag/id-1535\n",
      "[*] Internal link: https://ekantipur.com/tag/id-1536\n",
      "[*] Internal link: https://ekantipur.com/tag/id-1284\n",
      "[*] Internal link: https://ekantipur.com/tag/id-1532\n",
      "[*] Internal link: https://ekantipur.com/tag/id-1534\n",
      "[*] Internal link: https://ekantipur.com/tag/id-1528\n",
      "[*] Internal link: https://ekantipur.com/tag/id-1516\n",
      "[*] Internal link: https://ekantipur.com/tag/id-1533\n",
      "[*] Internal link: https://ekantipur.com/tag/id-1529\n",
      "[*] Internal link: https://ekantipur.com/tag/id-1521\n",
      "[*] Internal link: https://ekantipur.com/tag/id-1484\n",
      "[*] Internal link: https://ekantipur.com/tag/id-1526\n",
      "[*] Internal link: https://ekantipur.com/tag/id-1524\n",
      "[*] Internal link: https://ekantipur.com/tag/id-1523\n",
      "[*] Internal link: https://ekantipur.com/tag/id-1525\n",
      "[*] Internal link: https://ekantipur.com/tag/id-1522\n",
      "[*] Internal link: https://ekantipur.com/tag/id-1520\n",
      "[*] Internal link: https://ekantipur.com/tag/id-1519\n",
      "[*] Internal link: https://ekantipur.com/tag/id-1517\n",
      "[*] Internal link: https://ekantipur.com/tag/id-1469\n",
      "[*] Internal link: https://ekantipur.com/tag/id-1512\n",
      "[*] Internal link: https://ekantipur.com/tag/id-1501\n",
      "[*] Internal link: https://ekantipur.com/tag/id-1514\n",
      "[*] Internal link: https://ekantipur.com/tag/id-1509\n",
      "[*] Internal link: https://ekantipur.com/tag/id-1505\n",
      "[*] Internal link: https://ekantipur.com/tag/id-1507\n",
      "[*] Internal link: https://ekantipur.com/tag/id-1498\n",
      "[*] Internal link: https://ekantipur.com/tag/id-1508\n",
      "[*] Internal link: https://ekantipur.com/tag/id-1504\n",
      "[*] Internal link: https://ekantipur.com/tag/id-1500\n",
      "[*] Internal link: https://ekantipur.com/tag/id-1494\n",
      "[*] Internal link: https://ekantipur.com/tag/id-1503\n",
      "[*] Internal link: https://ekantipur.com/tag/id-1495\n",
      "[*] Internal link: https://ekantipur.com/tag/id-1493\n",
      "[*] Internal link: https://ekantipur.com/tag/id-1492\n",
      "[*] Internal link: https://ekantipur.com/tag/id-1491\n",
      "[*] Internal link: https://ekantipur.com/tag/id-1490\n",
      "[*] Internal link: https://ekantipur.com/tag/id-1487\n",
      "[*] Internal link: https://ekantipur.com/tag/id-1486\n",
      "[*] Internal link: https://ekantipur.com/tag/id-1454\n",
      "[*] Internal link: https://ekantipur.com/tag/id-1466\n",
      "[*] Internal link: https://ekantipur.com/tag/id-1481\n",
      "[*] Internal link: https://ekantipur.com/tag/id-1442\n",
      "[*] Internal link: https://ekantipur.com/tag/id-1480\n",
      "[*] Internal link: https://ekantipur.com/tag/id-1456\n",
      "[*] Internal link: https://ekantipur.com/tag/id-1453\n",
      "[*] Internal link: https://ekantipur.com/tag/id-1452\n",
      "[*] Internal link: https://ekantipur.com/tag/id-1451\n",
      "[*] Internal link: https://ekantipur.com/tag/id-1450\n",
      "[*] Internal link: https://ekantipur.com/tag/id-1449\n",
      "[*] Internal link: https://ekantipur.com/tag/id-1448\n",
      "[*] Internal link: https://ekantipur.com/tag/id-1447\n",
      "[*] Internal link: https://ekantipur.com/tag/id-1446\n",
      "[*] Internal link: https://ekantipur.com/tag/id-1445\n",
      "[*] Internal link: https://ekantipur.com/tag/id-1444\n",
      "[*] Internal link: https://ekantipur.com/tag/id-1443\n",
      "[*] Internal link: https://ekantipur.com/tag/id-1383\n",
      "[*] Internal link: https://ekantipur.com/tag/id-1441\n",
      "[*] Internal link: https://ekantipur.com/tag/id-1439\n",
      "[*] Internal link: https://ekantipur.com/tag/id-1438\n",
      "[*] Internal link: https://ekantipur.com/tag/id-1436\n",
      "[*] Internal link: https://ekantipur.com/tag/id-1431\n",
      "[*] Internal link: https://ekantipur.com/tag/id-1429\n",
      "[*] Internal link: https://ekantipur.com/tag/id-1430\n",
      "[*] Internal link: https://ekantipur.com/tag/id-1427\n",
      "[*] Internal link: https://ekantipur.com/tag/id-1426\n",
      "[*] Internal link: https://ekantipur.com/tag/id-1422\n",
      "[*] Internal link: https://ekantipur.com/tag/id-1420\n",
      "[*] Internal link: https://ekantipur.com/tag/id-1424\n",
      "[*] Internal link: https://ekantipur.com/tag/id-1419\n",
      "[*] Internal link: https://ekantipur.com/tag/id-1415\n",
      "[*] Internal link: https://ekantipur.com/tag/id-1414\n",
      "[*] Internal link: https://ekantipur.com/tag/id-1410\n",
      "[*] Internal link: https://ekantipur.com/tag/id-1388\n",
      "[*] Internal link: https://ekantipur.com/tag/id-1373\n",
      "[*] Internal link: https://ekantipur.com/tag/id-1326\n",
      "[*] Internal link: https://ekantipur.com/tag/id-1364\n",
      "[*] Internal link: https://ekantipur.com/tag/id-1355\n",
      "[*] Internal link: https://ekantipur.com/tag/id-1330\n",
      "[*] Internal link: https://ekantipur.com/tag/id-1329\n",
      "[*] Internal link: https://ekantipur.com/tag/id-1280\n",
      "[!] External link: https://www.bergernepal.com/product-detail/silk-breathe-easy\n",
      "[!] External link: https://apexcollege.edu.np/undergraduate_admission\n",
      "[*] Internal link: https://ekantipur.com/news/2022/02/18/164515288453733304.html\n",
      "[*] Internal link: https://ekantipur.com/opinion/2022/02/18/164514759682397117.html\n",
      "[*] Internal link: https://ekantipur.com/news/2022/02/18/164514628984182821.html\n",
      "[*] Internal link: https://ekantipur.com/Interview/2022/02/18/164514674147988868.html\n",
      "[*] Internal link: https://ekantipur.com/news/2022/02/18/164514608129077987.html\n",
      "[*] Internal link: https://ekantipur.com/business/2022/02/18/16451471710078510.html\n",
      "[*] Internal link: https://ekantipur.com/sports/2022/02/18/164514834144193217.html\n",
      "[*] Internal link: https://ekantipur.com/news/2022/02/18/164514749884326518.html\n",
      "[*] Internal link: https://ekantipur.com/news/2022/02/18/164514721461385255.html\n",
      "[*] Internal link: https://ekantipur.com/business/2022/02/18/164515048234589696.html\n",
      "[*] Internal link: https://ekantipur.com/sports/2022/02/18/164514837313154730.html\n",
      "[*] Internal link: https://ekantipur.com/world/2022/02/18/16451493172531563.html\n",
      "[*] Internal link: https://ekantipur.com/business/2022/02/18/164515003424114398.html\n",
      "[!] External link: https://tiurl.link/tA4Oj\n",
      "[*] Internal link: https://www.ekantipur.com/news/2022/02/18/16451536919986675.html\n",
      "[*] Internal link: https://ekantipur.com/news/2022/02/18/16451536919986675.html\n",
      "[*] Internal link: https://ekantipur.com/author/author-MatrikaDahal-3G26v\n",
      "[*] Internal link: https://www.ekantipur.com/news/2022/02/17/16451168600291274.html\n",
      "[*] Internal link: https://ekantipur.com/news/2022/02/17/16451168600291274.html\n",
      "[*] Internal link: https://ekantipur.com/author/author-14301\n",
      "[*] Internal link: https://www.ekantipur.com/news/2022/02/17/164511636136018380.html\n",
      "[*] Internal link: https://ekantipur.com/news/2022/02/17/164511636136018380.html\n",
      "[*] Internal link: https://www.ekantipur.com/news/2022/02/17/164511407236243522.html\n",
      "[*] Internal link: https://ekantipur.com/news/2022/02/17/164511407236243522.html\n",
      "[*] Internal link: https://www.ekantipur.com/news/2022/02/17/164511066949659125.html\n",
      "[*] Internal link: https://ekantipur.com/news/2022/02/17/164511066949659125.html\n",
      "[!] External link: https://www.facebook.com/login/\n",
      "[*] Internal link: https://ekantipur.com/pradesh-1/2022/02/17/164510331524227580.html\n",
      "[*] Internal link: https://ekantipur.com/pradesh-1/2022/02/17/1645097781675221.html\n",
      "[*] Internal link: https://ekantipur.com/pradesh-1/2022/02/17/16450713495118267.html\n",
      "[*] Internal link: https://ekantipur.com/pradesh-1/2022/02/17/16450712182744717.html\n",
      "[*] Internal link: https://ekantipur.com/pradesh-1/2022/02/16/164502182576657086.html\n",
      "[*] Internal link: https://ekantipur.com/pradesh-1/2022/02/16/164501949112925898.html\n",
      "[*] Internal link: https://ekantipur.com/pradesh-1\n",
      "[*] Internal link: https://ekantipur.com/pradesh-2/2022/02/17/16450834157476846.html\n",
      "[*] Internal link: https://ekantipur.com/pradesh-2/2022/02/17/164507177177238147.html\n",
      "[*] Internal link: https://ekantipur.com/pradesh-2/2022/02/17/164507160518663533.html\n",
      "[*] Internal link: https://ekantipur.com/pradesh-2/2022/02/16/164498714058053226.html\n",
      "[*] Internal link: https://ekantipur.com/pradesh-2/2022/02/16/164498693123572534.html\n",
      "[*] Internal link: https://ekantipur.com/pradesh-2/2022/02/15/164492945161017059.html\n",
      "[*] Internal link: https://ekantipur.com/pradesh-2\n",
      "[*] Internal link: https://ekantipur.com/pradesh-3/2022/02/17/164510184496655292.html\n",
      "[*] Internal link: https://ekantipur.com/pradesh-3/2022/02/17/164508151608671227.html\n",
      "[*] Internal link: https://ekantipur.com/pradesh-3/2022/02/17/164506060492528741.html\n",
      "[*] Internal link: https://ekantipur.com/pradesh-3/2022/02/17/164506076906962234.html\n",
      "[*] Internal link: https://ekantipur.com/pradesh-3/2022/02/16/164501158308916238.html\n",
      "[*] Internal link: https://ekantipur.com/pradesh-3/2022/02/16/164499097820683947.html\n",
      "[*] Internal link: https://ekantipur.com/pradesh-3\n",
      "[*] Internal link: https://ekantipur.com/pradesh-4/2022/02/16/16450252828884576.html\n",
      "[*] Internal link: https://ekantipur.com/pradesh-4/2022/02/16/164501858462421782.html\n",
      "[*] Internal link: https://ekantipur.com/pradesh-4/2022/02/16/16449900193792593.html\n",
      "[*] Internal link: https://ekantipur.com/pradesh-4/2022/02/16/164498662012492614.html\n",
      "[*] Internal link: https://ekantipur.com/pradesh-4/2022/02/15/164494313837286165.html\n",
      "[*] Internal link: https://ekantipur.com/pradesh-4/2022/02/15/1644935029385966.html\n",
      "[*] Internal link: https://ekantipur.com/pradesh-4\n",
      "[*] Internal link: https://ekantipur.com/pradesh-5/2022/02/17/1645113210457519.html\n",
      "[*] Internal link: https://ekantipur.com/pradesh-5/2022/02/17/16451020976162234.html\n",
      "[*] Internal link: https://ekantipur.com/pradesh-5/2022/02/17/164507750872785019.html\n",
      "[*] Internal link: https://ekantipur.com/pradesh-5/2022/02/17/164509231953765626.html\n",
      "[*] Internal link: https://ekantipur.com/pradesh-5/2022/02/17/164507409091257922.html\n",
      "[*] Internal link: https://ekantipur.com/pradesh-5/2022/02/17/164507282849233608.html\n",
      "[*] Internal link: https://ekantipur.com/pradesh-5\n",
      "[*] Internal link: https://ekantipur.com/pradesh-6/2022/02/17/164508717642736293.html\n",
      "[*] Internal link: https://ekantipur.com/pradesh-6/2022/02/17/164507371934366957.html\n",
      "[*] Internal link: https://ekantipur.com/pradesh-6/2022/02/17/16450734315943181.html\n",
      "[*] Internal link: https://ekantipur.com/pradesh-6/2022/02/16/164498588003727802.html\n",
      "[*] Internal link: https://ekantipur.com/pradesh-6/2022/02/16/164498582933152290.html\n",
      "[*] Internal link: https://ekantipur.com/pradesh-6/2022/02/15/164491292378537037.html\n",
      "[*] Internal link: https://ekantipur.com/pradesh-6\n",
      "[*] Internal link: https://ekantipur.com/pradesh-7/2022/02/17/164507262301788962.html\n",
      "[*] Internal link: https://ekantipur.com/pradesh-7/2022/02/17/16450718899151709.html\n",
      "[*] Internal link: https://ekantipur.com/pradesh-7/2022/02/16/164498562880474489.html\n",
      "[*] Internal link: https://ekantipur.com/pradesh-7/2022/02/16/164498527111137204.html\n",
      "[*] Internal link: https://ekantipur.com/pradesh-7/2022/02/15/164491022943678285.html\n",
      "[*] Internal link: https://ekantipur.com/pradesh-7/2022/02/15/16449029490137938.html\n",
      "[*] Internal link: https://ekantipur.com/pradesh-7\n",
      "[!] External link: https://nepatop.com.np/\n",
      "[*] Internal link: https://www.ekantipur.com/video/2022/02/17/164510659064287511.html\n",
      "[*] Internal link: https://ekantipur.com/video/2022/02/17/164510659064287511.html\n",
      "[*] Internal link: https://www.ekantipur.com/video/2022/02/17/16450958487957261.html\n",
      "[*] Internal link: https://ekantipur.com/video/2022/02/17/16450958487957261.html\n",
      "[*] Internal link: https://www.ekantipur.com/video/2022/02/17/16450916847663751.html\n",
      "[*] Internal link: https://ekantipur.com/video/2022/02/17/16450916847663751.html\n",
      "[*] Internal link: https://www.ekantipur.com/video/2022/02/17/16450907209183609.html\n",
      "[*] Internal link: https://ekantipur.com/video/2022/02/17/16450907209183609.html\n",
      "[*] Internal link: https://www.ekantipur.com/video/2022/02/16/164501339092686558.html\n",
      "[*] Internal link: https://ekantipur.com/video/2022/02/16/164501339092686558.html\n",
      "[*] Internal link: https://www.ekantipur.com/video/2022/02/16/164499477058839896.html\n",
      "[*] Internal link: https://ekantipur.com/video/2022/02/16/164499477058839896.html\n",
      "[!] External link: https://globalimebank.com/\n",
      "[!] External link: https://mangalamindustries.com/\n",
      "[*] Internal link: https://www.ekantipur.com/business/2022/02/18/164515074087511869.html\n",
      "[*] Internal link: https://ekantipur.com/business/2022/02/18/164515074087511869.html\n",
      "[*] Internal link: https://ekantipur.com/author/author-20161\n",
      "[*] Internal link: https://www.ekantipur.com/business/2022/02/17/16451068872898396.html\n",
      "[*] Internal link: https://ekantipur.com/business/2022/02/17/16451068872898396.html\n",
      "[*] Internal link: https://www.ekantipur.com/business/2022/02/17/164510594254625459.html\n",
      "[*] Internal link: https://ekantipur.com/business/2022/02/17/164510594254625459.html\n",
      "[*] Internal link: https://www.ekantipur.com/business/2022/02/17/164510439781946996.html\n",
      "[*] Internal link: https://ekantipur.com/business/2022/02/17/164510439781946996.html\n",
      "[*] Internal link: https://www.ekantipur.com/business/2022/02/17/164510135404471083.html\n",
      "[*] Internal link: https://ekantipur.com/business/2022/02/17/164510135404471083.html\n",
      "[*] Internal link: https://www.ekantipur.com/business/2022/02/17/164509958070478318.html\n",
      "[*] Internal link: https://ekantipur.com/business/2022/02/17/164509958070478318.html\n",
      "[!] External link: https://www.maruticements.com/\n",
      "[*] Internal link: https://www.ekantipur.com/sports/2022/02/17/1645102218716487.html\n",
      "[*] Internal link: https://ekantipur.com/sports/2022/02/17/1645102218716487.html\n",
      "[*] Internal link: https://ekantipur.com/author/author-21842\n",
      "[*] Internal link: https://www.ekantipur.com/sports/2022/02/17/164506410811353729.html\n",
      "[*] Internal link: https://ekantipur.com/sports/2022/02/17/164506410811353729.html\n",
      "[*] Internal link: https://ekantipur.com/author/author-8822\n",
      "[*] Internal link: https://www.ekantipur.com/sports/2022/02/17/164506502554888641.html\n",
      "[*] Internal link: https://ekantipur.com/sports/2022/02/17/164506502554888641.html\n",
      "[*] Internal link: https://www.ekantipur.com/sports/2022/02/17/164506499273592489.html\n",
      "[*] Internal link: https://ekantipur.com/sports/2022/02/17/164506499273592489.html\n",
      "[*] Internal link: https://www.ekantipur.com/sports/2022/02/17/164506414794414371.html\n",
      "[*] Internal link: https://ekantipur.com/sports/2022/02/17/164506414794414371.html\n",
      "[*] Internal link: https://ekantipur.com/author/author-17571\n",
      "[*] Internal link: https://www.ekantipur.com/entertainment/2022/02/17/16450976967689207.html\n",
      "[*] Internal link: https://ekantipur.com/entertainment/2022/02/17/16450976967689207.html\n",
      "[*] Internal link: https://www.ekantipur.com/entertainment/2022/02/16/164501674782322919.html\n",
      "[*] Internal link: https://ekantipur.com/entertainment/2022/02/16/164501674782322919.html\n",
      "[*] Internal link: https://ekantipur.com/author/author-8751\n",
      "[*] Internal link: https://www.ekantipur.com/entertainment/2022/02/14/164482857644492608.html\n",
      "[*] Internal link: https://ekantipur.com/entertainment/2022/02/14/164482857644492608.html\n",
      "[*] Internal link: https://www.ekantipur.com/entertainment/2022/02/09/16443945969036239.html\n",
      "[*] Internal link: https://ekantipur.com/entertainment/2022/02/09/16443945969036239.html\n",
      "[*] Internal link: https://www.ekantipur.com/entertainment/2022/02/08/164432169613837225.html\n",
      "[*] Internal link: https://ekantipur.com/entertainment/2022/02/08/164432169613837225.html\n",
      "[*] Internal link: https://www.ekantipur.com/entertainment/2022/02/02/164379742883163102.html\n",
      "[*] Internal link: https://ekantipur.com/entertainment/2022/02/02/164379742883163102.html\n",
      "[*] Internal link: https://www.ekantipur.com/world/2022/02/18/164514954922347995.html\n",
      "[*] Internal link: https://ekantipur.com/world/2022/02/18/164514954922347995.html\n",
      "[*] Internal link: https://ekantipur.com/author/author-8952\n",
      "[*] Internal link: https://www.ekantipur.com/world/2022/02/17/164508461728743534.html\n",
      "[*] Internal link: https://ekantipur.com/world/2022/02/17/164508461728743534.html\n",
      "[*] Internal link: https://www.ekantipur.com/world/2022/02/17/16450764277014599.html\n",
      "[*] Internal link: https://ekantipur.com/world/2022/02/17/16450764277014599.html\n",
      "[*] Internal link: https://www.ekantipur.com/world/2022/02/17/16450664425355553.html\n",
      "[*] Internal link: https://ekantipur.com/world/2022/02/17/16450664425355553.html\n",
      "[*] Internal link: https://ekantipur.com/author/author-8950\n",
      "[*] Internal link: https://www.ekantipur.com/world/2022/02/17/164506517690972702.html\n",
      "[*] Internal link: https://ekantipur.com/world/2022/02/17/164506517690972702.html\n",
      "[*] Internal link: https://www.ekantipur.com/feature/2022/02/17/164509203205445491.html\n",
      "[*] Internal link: https://ekantipur.com/feature/2022/02/17/164509203205445491.html\n",
      "[*] Internal link: https://ekantipur.com/author/author-ReenaMoktan-btmhT\n",
      "[*] Internal link: https://www.ekantipur.com/feature/2022/02/15/164490268782792145.html\n",
      "[*] Internal link: https://ekantipur.com/feature/2022/02/15/164490268782792145.html\n",
      "[*] Internal link: https://ekantipur.com/author/author-9603\n",
      "[*] Internal link: https://www.ekantipur.com/feature/2022/02/14/164482403942723629.html\n",
      "[*] Internal link: https://ekantipur.com/feature/2022/02/14/164482403942723629.html\n",
      "[*] Internal link: https://ekantipur.com/author/author-15441\n",
      "[*] Internal link: https://www.ekantipur.com/feature/2022/02/11/164454579230651807.html\n",
      "[*] Internal link: https://ekantipur.com/feature/2022/02/11/164454579230651807.html\n",
      "[*] Internal link: https://ekantipur.com/author/author-BunuTharu-bmytO\n",
      "[*] Internal link: https://www.ekantipur.com/feature/2022/02/08/164430488597733238.html\n",
      "[*] Internal link: https://ekantipur.com/feature/2022/02/08/164430488597733238.html\n",
      "[*] Internal link: https://www.ekantipur.com/feature/2022/02/07/164422544580282562.html\n",
      "[*] Internal link: https://ekantipur.com/feature/2022/02/07/164422544580282562.html\n",
      "[*] Internal link: https://ekantipur.com/author/author-8878\n",
      "[*] Internal link: https://www.ekantipur.com/photo_feature/2022/02/17/16450926960291244.html\n",
      "[*] Internal link: https://ekantipur.com/photo_feature/2022/02/17/16450926960291244.html\n",
      "[*] Internal link: https://ekantipur.com/author/author-20011\n",
      "[*] Internal link: https://www.ekantipur.com/photo_feature/2022/02/16/164500982518757476.html\n",
      "[*] Internal link: https://ekantipur.com/photo_feature/2022/02/16/164500982518757476.html\n",
      "[*] Internal link: https://ekantipur.com/author/author-21409\n",
      "[*] Internal link: https://ekantipur.com/author/author-DeepakKc-EnKO6\n",
      "[*] Internal link: https://ekantipur.com/author/author-15605\n",
      "[*] Internal link: https://ekantipur.com/author/author-22892\n",
      "[*] Internal link: https://www.ekantipur.com/photo_feature/2022/02/16/164499597109496305.html\n",
      "[*] Internal link: https://ekantipur.com/photo_feature/2022/02/16/164499597109496305.html\n",
      "[*] Internal link: https://www.ekantipur.com/photo_feature/2022/02/16/164499350649795642.html\n",
      "[*] Internal link: https://ekantipur.com/photo_feature/2022/02/16/164499350649795642.html\n",
      "[*] Internal link: https://www.ekantipur.com/photo_feature/2022/02/16/16449738891002745.html\n",
      "[*] Internal link: https://ekantipur.com/photo_feature/2022/02/16/16449738891002745.html\n",
      "[*] Internal link: https://ekantipur.com/author/author-21450\n",
      "[*] Internal link: https://www.ekantipur.com/national/2022/02/17/164507769223796348.html\n",
      "[*] Internal link: https://ekantipur.com/national/2022/02/17/164507769223796348.html\n",
      "[*] Internal link: https://www.ekantipur.com/national/2022/02/16/164501236593247631.html\n",
      "[*] Internal link: https://ekantipur.com/national/2022/02/16/164501236593247631.html\n",
      "[*] Internal link: https://www.ekantipur.com/national/2022/02/14/164485745902097813.html\n",
      "[*] Internal link: https://ekantipur.com/national/2022/02/14/164485745902097813.html\n",
      "[*] Internal link: https://www.ekantipur.com/national/2022/02/14/164485301181085705.html\n",
      "[*] Internal link: https://ekantipur.com/national/2022/02/14/164485301181085705.html\n",
      "[*] Internal link: https://www.ekantipur.com/national/2022/02/14/164484143879671141.html\n",
      "[*] Internal link: https://ekantipur.com/national/2022/02/14/164484143879671141.html\n",
      "[*] Internal link: https://ekantipur.com/author/author-9299\n",
      "[*] Internal link: https://www.ekantipur.com/national/2022/02/14/16448008604296166.html\n",
      "[*] Internal link: https://ekantipur.com/national/2022/02/14/16448008604296166.html\n",
      "[*] Internal link: https://www.ekantipur.com/koseli/2022/02/12/164463279284793413.html\n",
      "[*] Internal link: https://ekantipur.com/koseli/2022/02/12/164463279284793413.html\n",
      "[*] Internal link: https://ekantipur.com/koseli/2022/02/12/164463285363297942.html\n",
      "[*] Internal link: https://ekantipur.com/koseli/2022/02/12/164463291793875629.html\n",
      "[*] Internal link: https://ekantipur.com/koseli/2022/02/12/164463318562913966.html\n",
      "[*] Internal link: https://ekantipur.com/hello-sukrabar\n",
      "[*] Internal link: https://www.ekantipur.com/hello-sukrabar/2020/03/20/158470123165072393.html\n",
      "[*] Internal link: https://ekantipur.com/hello-sukrabar/2020/03/20/158470123165072393.html\n",
      "[*] Internal link: https://ekantipur.com/hello-sukrabar/2020/03/20/158469856284963912.html\n",
      "[*] Internal link: https://ekantipur.com/hello-sukrabar/2020/03/20/15846981009965149.html\n",
      "[*] Internal link: https://ekantipur.com/hello-sukrabar/2020/03/20/158469606911033587.html\n",
      "[*] Internal link: https://ekantipur.com/kopila\n",
      "[*] Internal link: https://www.ekantipur.com/kopila/2020/01/26/158001413772242065.html\n",
      "[*] Internal link: https://ekantipur.com/kopila/2020/01/26/158001413772242065.html\n",
      "[*] Internal link: https://ekantipur.com/kopila/2020/01/26/158001411262758312.html\n",
      "[*] Internal link: https://ekantipur.com/kopila/2020/01/26/15800140912276876.html\n",
      "[*] Internal link: https://ekantipur.com/kopila/2020/01/26/158001407097163185.html\n",
      "[*] Internal link: https://ekantipur.com/bichar-bibidha\n",
      "[!] External link: javascript://;\n",
      "[*] Internal link: https://ekantipur.com/author/author-11379\n",
      "[*] Internal link: https://ekantipur.com/opinion/2022/02/17/164506433205281841.html\n",
      "[*] Internal link: https://ekantipur.com/author/author-8930\n",
      "[*] Internal link: https://ekantipur.com/opinion/2022/02/17/164506373437882798.html\n",
      "[*] Internal link: https://ekantipur.com/author/author-8961\n",
      "[*] Internal link: https://ekantipur.com/opinion/2022/02/17/164506324986577706.html\n",
      "[*] Internal link: https://ekantipur.com/author/author-9347\n",
      "[*] Internal link: https://ekantipur.com/opinion/2022/02/17/164506272320123672.html\n",
      "[*] Internal link: https://ekantipur.com/opinion/2022/02/16/164501796630099604.html\n",
      "[*] Internal link: https://ekantipur.com/author/author-9084\n",
      "[*] Internal link: https://ekantipur.com/opinion/2022/02/16/16449778202771407.html\n",
      "[*] Internal link: https://ekantipur.com/author/author-9985\n",
      "[*] Internal link: https://ekantipur.com/opinion/2022/02/16/164497907192956772.html\n",
      "[*] Internal link: https://ekantipur.com/author/author-8911\n",
      "[*] Internal link: https://ekantipur.com/opinion/2022/02/16/164497955094331387.html\n",
      "[*] Internal link: https://ekantipur.com/author/author-NurjungShah-lcdSD\n",
      "[*] Internal link: https://ekantipur.com/opinion/2022/02/16/164498018675495635.html\n",
      "[*] Internal link: https://ekantipur.com/author/author-9337\n",
      "[*] Internal link: https://covid19.ekantipur.com/\n",
      "[*] Internal link: https://ekantipur.com/13th-south-asian-games\n",
      "[*] Internal link: https://ekantipur.com/our-nepal\n",
      "[*] Internal link: https://ekantipur.com/local-elections-2017\n",
      "[*] Internal link: https://ekantipur.com/bibidha\n",
      "[*] Internal link: https://ekantipur.com/interesting\n",
      "[*] Internal link: https://ekantipur.com/phadko\n",
      "[*] Internal link: https://ekantipur.com/printedition\n",
      "[*] Internal link: https://ekantipur.com/nepal-election-2074\n",
      "[*] Internal link: https://ekantipur.com/nari-nepali\n",
      "[*] Internal link: https://ekantipur.com/destination\n",
      "[*] Internal link: https://ekantipur.com/cricket-world-cup-2019\n",
      "[!] External link: http://www.kmg.com.np/kantipur-publication/\n",
      "[!] External link: http://www.kmg.com.np/advertise/\n",
      "[!] External link: https://www.facebook.com/eKantipur\n",
      "[!] External link: https://twitter.com/ekantipur_com\n",
      "[!] External link: https://www.youtube.com/channel/UCH690VR64topganWjVKivzg\n",
      "[!] External link: https://www.instagram.com/ekantipur_com\n",
      "[!] External link: https://www.tiktok.com/@ekantipur_official\n",
      "[!] External link: https://play.google.com/store/apps/details\n",
      "[!] External link: https://itunes.apple.com/np/app/kantipur-daily/id1247241220\n",
      "[!] External link: https://kantipurtv.com\n",
      "[!] External link: https://kathmandupost.com\n",
      "[!] External link: https://radiokantipur.com\n",
      "[!] External link: https://saptahik.com.np/\n",
      "[!] External link: https://nepalmag.com.np\n",
      "[!] External link: https://narimag.com.np/\n",
      "[*] Internal link: https://www.ekantipur.com/termsofservice\n",
      "[*] Internal link: https://www.ekantipur.com/privacypolicy\n",
      "[!] External link: https://www.downloadbrowser.org/\n",
      "[*] Crawling: https://ekantipur.com/opinion/2022/02/16/164497907192956772.html\n"
     ]
    },
    {
     "name": "stdout",
     "output_type": "stream",
     "text": [
      "[*] Internal link: https://ekantipur.com/search/2022\n",
      "[!] External link: https://www.ncell.axiata.com/en/individual/offers/non-stop-time-pack\n",
      "[!] External link: https://www.khukrirum.com/\n",
      "[!] External link: https://www.islington.edu.np/\n",
      "[!] External link: https://bit.ly/Bajajinterestcampaign\n",
      "[!] External link: https://bit.ly/33R9mZL\n",
      "[!] External link: https://www.qatarairways.com/en-np/offers/love-is-in-the-air.html\n",
      "[!] External link: https://www.facebook.com/slsbry\n",
      "[!] External link: https://www.laxmibank.com/deposit/fixed-deposit/\n",
      "[!] External link: https://esewaremit.com/\n",
      "[!] External link: http://www.maruticements.com/\n",
      "[!] External link: http://www.nepatop.com.np/\n",
      "[!] External link: https://click.daraz.com.np/e/_6yzFg\n",
      "[!] External link: https://www.daraz.com.np/\n",
      "[!] External link: https://click.daraz.com.np/e/_6uh2I\n",
      "[!] External link: https://click.daraz.com.np/e/_6GVDG\n",
      "[!] External link: https://connectips.com/knowmore/gov/\n",
      "[!] External link: https://www.civilbank.com.np/\n",
      "[!] External link: https://www.vianet.com.np/ultrafi/\n",
      "[!] External link: https://www.facebook.com/Shauryacements\n",
      "[*] Internal link: https://radiokantipur.com\n",
      "[*] Internal link: https://ekantipur.com/termsofservice\n",
      "[*] Internal link: https://ekantipur.com/privacypolicy\n",
      "[!] External link: http://kmg.com.np/subscribe\n",
      "[*] Crawling: https://ekantipur.com/search/2022\n",
      "[*] Crawling: https://radiokantipur.com\n",
      "[*] Internal link: https://radiokantipur.com/kantipurdiary\n",
      "[*] Internal link: https://radiokantipur.com/main-news\n",
      "[*] Internal link: https://radiokantipur.com/national\n",
      "[*] Internal link: https://radiokantipur.com/economy\n",
      "[*] Internal link: https://radiokantipur.com/international\n",
      "[*] Internal link: https://radiokantipur.com/sports\n",
      "[*] Internal link: https://radiokantipur.com/Analysis\n",
      "[*] Internal link: https://radiokantipur.com/Health\n",
      "[*] Internal link: https://radiokantipur.com/photo-feature\n",
      "[*] Internal link: https://radiokantipur.com/Editorial\n",
      "[*] Internal link: https://radiokantipur.com/district-diary\n",
      "[*] Internal link: https://radiokantipur.com/entertainment\n",
      "[*] Internal link: https://radiokantipur.com/literature\n",
      "[*] Internal link: https://radiokantipur.com/Prawash\n",
      "[*] Internal link: https://radiokantipur.com/Bichar\n",
      "[*] Internal link: https://radiokantipur.com/audio-news\n",
      "[*] Internal link: https://radiokantipur.com/\n",
      "[*] Internal link: https://radiokantipur.com/programs\n",
      "[*] Internal link: https://radiokantipur.com/rjs\n",
      "[*] Internal link: https://radiokantipur.com/events\n",
      "[*] Internal link: https://radiokantipur.com/about\n",
      "[*] Internal link: https://radiokantipur.com/rjs/27112\n",
      "[*] Internal link: https://radiokantipur.com/main-news/2022/02/17/1645110782\n",
      "[*] Internal link: https://radiokantipur.com/main-news/2022/02/17/1645099429\n",
      "[*] Internal link: https://radiokantipur.com/economy/2022/02/17/1645099172\n",
      "[*] Internal link: https://radiokantipur.com/main-news/2022/02/17/1645100620\n",
      "[*] Internal link: https://radiokantipur.com/programs/302\n",
      "[*] Internal link: https://radiokantipur.com/programs/309\n",
      "[*] Internal link: https://radiokantipur.com/programs/316\n",
      "[*] Internal link: https://radiokantipur.com/programs/201\n",
      "[*] Internal link: https://radiokantipur.com/programs/197\n",
      "[*] Internal link: https://radiokantipur.com/programs/177\n",
      "[*] Internal link: https://radiokantipur.com/programs/15\n",
      "[*] Internal link: https://radiokantipur.com/programs/112\n",
      "[*] Internal link: https://radiokantipur.com/programs/225\n",
      "[*] Internal link: https://radiokantipur.com/programs/193\n",
      "[*] Internal link: https://radiokantipur.com/programs/202\n",
      "[*] Internal link: https://radiokantipur.com/programs/229\n",
      "[*] Internal link: https://radiokantipur.com/programs/65\n",
      "[*] Internal link: https://radiokantipur.com/programs/85\n",
      "[*] Internal link: https://radiokantipur.com/programs/428\n",
      "[*] Internal link: https://radiokantipur.com/programs/323\n",
      "[*] Internal link: https://radiokantipur.com/programs/169\n",
      "[*] Internal link: https://radiokantipur.com/programs/224\n",
      "[*] Internal link: https://radiokantipur.com/programs/4\n",
      "[*] Internal link: https://radiokantipur.com/programs/190\n",
      "[*] Internal link: https://radiokantipur.com/programs/210\n",
      "[*] Internal link: https://radiokantipur.com/programs/81\n",
      "[*] Internal link: https://radiokantipur.com/programs/491\n",
      "[*] Internal link: https://radiokantipur.com/programs/27\n",
      "[*] Internal link: https://radiokantipur.com/programs/182\n",
      "[*] Internal link: https://radiokantipur.com/programs/393\n",
      "[*] Internal link: https://radiokantipur.com/rjs/20358\n",
      "[*] Internal link: https://radiokantipur.com/rjs/20359\n",
      "[*] Internal link: https://radiokantipur.com/rjs/23617\n",
      "[*] Internal link: https://radiokantipur.com/rjs/20350\n",
      "[*] Internal link: https://radiokantipur.com/rjs/27140\n",
      "[*] Internal link: https://radiokantipur.com/rjs/20386\n",
      "[*] Internal link: https://radiokantipur.com/rjs/27071\n",
      "[*] Internal link: https://radiokantipur.com/rjs/20361\n",
      "[*] Internal link: https://radiokantipur.com/rjs/20368\n",
      "[*] Internal link: https://radiokantipur.com/rjs/27119\n",
      "[*] Internal link: https://radiokantipur.com/rjs/25654\n",
      "[*] Internal link: https://radiokantipur.com/rjs/20362\n",
      "[*] Internal link: https://radiokantipur.com/rjs/20374\n",
      "[*] Internal link: https://radiokantipur.com/rjs/27091\n",
      "[*] Internal link: https://radiokantipur.com/rjs/21988\n",
      "[*] Internal link: https://radiokantipur.com/rjs/27060\n",
      "[*] Internal link: https://radiokantipur.com/rjs/20370\n",
      "[*] Internal link: https://radiokantipur.com/rjs/20348\n",
      "[*] Internal link: https://radiokantipur.com/rjs/27077\n",
      "[*] Internal link: https://radiokantipur.com/rjs/27133\n",
      "[*] Internal link: https://radiokantipur.com/rjs/27126\n",
      "[*] Internal link: https://radiokantipur.com/rjs/26427\n",
      "[*] Internal link: https://radiokantipur.com/rjs/27105\n",
      "[*] Internal link: https://radiokantipur.com/rjs/27147\n",
      "[*] Internal link: https://radiokantipur.com/rjs/20364\n",
      "[*] Internal link: https://radiokantipur.com/rjs/20371\n",
      "[*] Internal link: https://radiokantipur.com/rjs/20385\n",
      "[*] Internal link: https://radiokantipur.com/rjs/25624\n",
      "[*] Internal link: https://radiokantipur.com/rjs/27084\n",
      "[*] Internal link: https://radiokantipur.com/rjs/24952\n",
      "[*] Internal link: https://radiokantipur.com/rjs/20373\n",
      "[*] Internal link: https://radiokantipur.com/rjs/25104\n",
      "[*] Internal link: https://radiokantipur.com/rjs/25798\n",
      "[*] Internal link: https://radiokantipur.com/rjs/27098\n",
      "[*] Internal link: https://radiokantipur.com/rjs/23616\n",
      "[*] Internal link: https://radiokantipur.com/rjs/25516\n",
      "[*] Internal link: https://radiokantipur.com/rjs/20365\n",
      "[!] External link: https://www.youtube.com/watch\n",
      "[*] Internal link: https://radiokantipur.com/events/169\n",
      "[*] Internal link: https://radiokantipur.com/events/162\n",
      "[*] Internal link: https://radiokantipur.com/events/161\n",
      "[*] Internal link: https://radiokantipur.com/events/158\n",
      "[*] Internal link: https://radiokantipur.com/events/148\n",
      "[*] Internal link: https://radiokantipur.com/events/147\n",
      "[*] Internal link: https://radiokantipur.com/events/138\n",
      "[*] Internal link: https://radiokantipur.com/events/137\n",
      "[*] Internal link: https://radiokantipur.com/events/136\n",
      "[*] Internal link: https://radiokantipur.com/celebrity/hot-property/785\n",
      "[*] Internal link: https://radiokantipur.com/celebrity/hot-shot/792\n",
      "[*] Internal link: https://radiokantipur.com/celebrity/celeb-dating/799\n",
      "[*] Internal link: https://radiokantipur.com/celebrity/red-carpet/806\n",
      "[!] External link: https://www.facebook.com/kantipurradio/\n",
      "[!] External link: https://twitter.com/KantipurRadio\n",
      "[*] Internal link: https://radiokantipur.com/constitution-news\n",
      "[*] Internal link: https://radiokantipur.com/constitution-report\n",
      "[*] Internal link: https://radiokantipur.com/society\n",
      "[*] Internal link: https://radiokantipur.com/interesting\n",
      "[*] Internal link: https://radiokantipur.com/election-special\n",
      "[*] Internal link: https://radiokantipur.com/others\n",
      "[*] Internal link: https://radiokantipur.com/interview\n",
      "[!] External link: http://kmg.com.np/advertise/\n",
      "[*] Internal link: https://radiokantipur.com/contact\n",
      "[*] Internal link: https://radiokantipur.com/pages/privacy-policy\n",
      "[!] External link: https://www.youtube.com/channel/UCOXTBJUKRtQ7Z5r9cwj-9lw\n",
      "[!] External link: https://ekantipur.com/ \n",
      "[!] External link: https://kathmandupost.com/\n",
      "[!] External link: https://nepalmag.com.np/\n",
      "[!] External link: https://kantipurtv.com/\n",
      "[!] External link: https://apps.apple.com/us/app/radio-kantipur/id1339596015\n",
      "[*] Crawling: https://radiokantipur.com/national\n"
     ]
    },
    {
     "name": "stdout",
     "output_type": "stream",
     "text": [
      "[*] Internal link: https://radiokantipur.com/national/2022/02/17/1645097927\n",
      "[*] Internal link: https://radiokantipur.com/national/2022/02/17/1645097836\n",
      "[*] Internal link: https://radiokantipur.com/national/2022/02/16/1645020468\n",
      "[*] Internal link: https://radiokantipur.com/national/2022/02/16/1645020382\n",
      "[*] Internal link: https://radiokantipur.com/national/2022/02/16/1645020110\n",
      "[*] Internal link: https://radiokantipur.com/national/2022/02/16/1645019990\n",
      "[*] Internal link: https://radiokantipur.com/national/2022/02/16/1645009694\n",
      "[*] Internal link: https://radiokantipur.com/national/2022/02/16/1644983602\n",
      "[*] Internal link: https://radiokantipur.com/national/2022/02/15/1644928016\n",
      "[*] Internal link: https://radiokantipur.com/national/2022/02/15/1644927127\n",
      "[*] Internal link: https://radiokantipur.com/national/2022/02/15/1644897938\n",
      "[*] Internal link: https://radiokantipur.com/national/2022/02/14/1644857989\n",
      "[*] Internal link: https://radiokantipur.com/national/2022/02/14/1644857675\n",
      "[*] Internal link: https://radiokantipur.com/national/2022/02/14/1644857582\n",
      "[*] Internal link: https://radiokantipur.com/national/2022/02/14/1644846810\n",
      "[*] Internal link: https://radiokantipur.com/national/2022/02/14/1644846441\n",
      "[*] Internal link: https://radiokantipur.com/national/2022/02/14/1644839308\n",
      "[*] Internal link: https://radiokantipur.com/national/2022/02/14/1644839205\n",
      "[*] Internal link: https://radiokantipur.com/national/2022/02/14/1644821841\n",
      "[*] Internal link: https://radiokantipur.com/national/2022/02/13/1644760707\n",
      "[*] Internal link: https://radiokantipur.com/economy/2022/02/17/1645094035\n",
      "[*] Internal link: https://radiokantipur.com/society/2022/02/17/1645098059\n",
      "[*] Internal link: https://radiokantipur.com/economy/2022/02/17/1645110341\n",
      "[*] Crawling: https://radiokantipur.com/national/2022/02/16/1644983602\n",
      "[*] Internal link: https://radiokantipur.com/author/231379\n",
      "[!] External link: https://nabilbank.com/en/personal/card-e-banking/services/nabil-fone-loan\n",
      "[*] Crawling: https://radiokantipur.com/author/231379\n",
      "[*] Internal link: https://radiokantipur.com/main-news/2022/02/17/1645072655\n",
      "[*] Internal link: https://radiokantipur.com/sports/2022/02/17/1645070914\n",
      "[*] Internal link: https://radiokantipur.com/main-news/2022/02/17/1645070262\n",
      "[*] Internal link: https://radiokantipur.com/audio-news/2022/02/17/1645070072\n",
      "[*] Internal link: https://radiokantipur.com/audio-news/2022/02/16/1644986084\n",
      "[*] Internal link: https://radiokantipur.com/sports/2022/02/16/1644984157\n",
      "[*] Internal link: https://radiokantipur.com/main-news/2022/02/16/1644983452\n",
      "[*] Internal link: https://radiokantipur.com/main-news/2022/02/16/1644983142\n",
      "[*] Internal link: https://radiokantipur.com/sports/2022/02/15/1644929448\n",
      "[*] Internal link: https://radiokantipur.com/sports/2022/02/15/1644929336\n",
      "[*] Internal link: https://radiokantipur.com/main-news/2022/02/15/1644929136\n",
      "[*] Crawling: https://radiokantipur.com/audio-news/2022/02/17/1645070072\n",
      "[*] Internal link: https://radiokantipur.com/audio-news/2022/02/15/1644895666\n",
      "[*] Internal link: https://radiokantipur.com/audio-news/2022/02/14/1644849505\n",
      "[*] Internal link: https://radiokantipur.com/audio-news/2022/02/13/1644725267\n",
      "[*] Internal link: https://radiokantipur.com/audio-news/2022/02/12/1644657172\n",
      "[*] Crawling: https://radiokantipur.com/audio-news/2022/02/14/1644849505\n",
      "[*] Crawling: https://radiokantipur.com/audio-news/2022/02/15/1644895666\n",
      "[*] Crawling: https://radiokantipur.com/audio-news/2022/02/13/1644725267\n",
      "[*] Crawling: https://radiokantipur.com/audio-news/2022/02/12/1644657172\n",
      "[*] Crawling: https://radiokantipur.com/audio-news/2022/02/16/1644986084\n",
      "[*] Crawling: https://radiokantipur.com/sports/2022/02/17/1645070914\n",
      "[*] Internal link: https://radiokantipur.com/sports/2022/02/17/1645070420\n",
      "[*] Internal link: https://radiokantipur.com/sports/2022/02/16/1645021489\n",
      "[*] Internal link: https://radiokantipur.com/sports/2022/02/15/1644931194\n",
      "[*] Crawling: https://radiokantipur.com/sports/2022/02/15/1644931194\n",
      "[*] Internal link: https://radiokantipur.com/author/150935\n",
      "[*] Crawling: https://radiokantipur.com/author/150935\n",
      "[*] Internal link: https://radiokantipur.com/international/2022/02/17/1645099003\n",
      "[*] Internal link: https://radiokantipur.com/international/2022/02/17/1645089203\n",
      "[*] Internal link: https://radiokantipur.com/international/2022/02/16/1645017799\n",
      "[*] Internal link: https://radiokantipur.com/international/2022/02/11/1644583862\n",
      "[*] Internal link: https://radiokantipur.com/international/2022/02/04/1643979574\n",
      "[*] Internal link: https://radiokantipur.com/international/2022/02/04/1643969911\n",
      "[*] Internal link: https://radiokantipur.com/international/2022/02/03/1643892608\n",
      "[*] Internal link: https://radiokantipur.com/international/2022/02/02/1643815022\n",
      "[*] Internal link: https://radiokantipur.com/international/2022/02/02/1643807626\n",
      "[*] Internal link: https://radiokantipur.com/international/2022/01/24/1643003365\n",
      "[*] Internal link: https://radiokantipur.com/sports/2022/01/18/1642472543\n",
      "[*] Internal link: https://radiokantipur.com/sports/2022/01/18/1642472329\n",
      "[*] Internal link: https://radiokantipur.com/main-news/2022/01/10/1641823692\n",
      "[*] Internal link: https://radiokantipur.com/international/2022/01/10/1641808264\n",
      "[*] Crawling: https://radiokantipur.com/sports/2022/01/18/1642472543\n",
      "[*] Crawling: https://radiokantipur.com/international/2022/01/24/1643003365\n",
      "[*] Internal link: https://radiokantipur.com/international/2022/02/17/1645089405\n",
      "[*] Internal link: https://radiokantipur.com/international/2022/02/17/1645072475\n",
      "[*] Internal link: https://radiokantipur.com/international/2022/02/17/1645072235\n",
      "[*] Internal link: https://radiokantipur.com/international/2022/02/16/1645021906\n",
      "[*] Crawling: https://radiokantipur.com/international/2022/02/17/1645072475\n",
      "[*] Internal link: https://radiokantipur.com/author/150942\n",
      "[*] Crawling: https://radiokantipur.com/author/150942\n",
      "[*] Internal link: https://radiokantipur.com/international/2022/02/16/1644983991\n",
      "[*] Internal link: https://radiokantipur.com/international/2022/02/14/1644821631\n",
      "[*] Internal link: https://radiokantipur.com/international/2022/02/13/1644729242\n",
      "[*] Internal link: https://radiokantipur.com/international/2022/02/11/1644570079\n",
      "[*] Internal link: https://radiokantipur.com/international/2022/02/06/1644119775\n",
      "[*] Internal link: https://radiokantipur.com/national/2022/02/05/1644044579\n",
      "[*] Internal link: https://radiokantipur.com/international/2022/02/03/1643892472\n",
      "[*] Internal link: https://radiokantipur.com/international/2022/02/02/1643807963\n",
      "[*] Internal link: https://radiokantipur.com/sports/2022/01/19/1642574725\n",
      "[*] Internal link: https://radiokantipur.com/international/2022/01/08/1641648053\n",
      "[*] Internal link: https://radiokantipur.com/international/2022/01/05/1641373420\n",
      "[*] Internal link: https://radiokantipur.com/international/2021/12/31/1640953000\n",
      "[*] Internal link: https://radiokantipur.com/international/2021/12/03/1638528872\n",
      "[*] Crawling: https://radiokantipur.com/international/2022/02/16/1644983991\n",
      "[*] Crawling: https://radiokantipur.com/international/2022/02/13/1644729242\n",
      "[*] Crawling: https://radiokantipur.com/sports/2022/01/19/1642574725\n",
      "[*] Crawling: https://radiokantipur.com/international/2022/02/06/1644119775\n",
      "[*] Crawling: https://radiokantipur.com/international/2021/12/31/1640953000\n",
      "[*] Crawling: https://radiokantipur.com/international/2022/02/14/1644821631\n",
      "[*] Crawling: https://radiokantipur.com/international/2022/02/11/1644570079\n",
      "[*] Crawling: https://radiokantipur.com/national/2022/02/05/1644044579\n",
      "[*] Crawling: https://radiokantipur.com/international/2022/02/02/1643807963\n",
      "[*] Crawling: https://radiokantipur.com/international/2022/02/03/1643892472\n",
      "[*] Crawling: https://radiokantipur.com/international/2022/01/08/1641648053\n",
      "[+] Total Internal links: 539\n",
      "[+] Total External links: 56\n",
      "[+] Total URLs: 595\n"
     ]
    }
   ],
   "source": [
    "total_urls_visited = 0\n",
    "\n",
    "def crawl(url, max_urls=30):\n",
    "    \"\"\"\n",
    "    Crawls a web page and extracts all links.\n",
    "    You'll find all links in `external_urls` and `internal_urls` global set variables.\n",
    "    params:\n",
    "        max_urls (int): number of max urls to crawl, default is 30.\n",
    "    \"\"\"\n",
    "    global total_urls_visited\n",
    "    total_urls_visited += 1\n",
    "    print(f\"[*] Crawling: {url}\")\n",
    "    links = get_all_webpage_link(url)\n",
    "    for link in links:\n",
    "        if total_urls_visited > max_urls:\n",
    "            break\n",
    "        crawl(link, max_urls=max_urls)\n",
    "    \n",
    "if __name__ == \"__main__\":\n",
    "    crawl(\"https://www.ekantipur.com\")\n",
    "    print(\"[+] Total Internal links:\", len(internal_urls))\n",
    "    print(\"[+] Total External links:\", len(external_urls))\n",
    "    print(\"[+] Total URLs:\", len(external_urls) + len(internal_urls))"
   ]
  },
  {
   "cell_type": "markdown",
   "id": "baca5d7b",
   "metadata": {},
   "source": [
    "### Total Internal and External Links Count"
   ]
  },
  {
   "cell_type": "code",
   "execution_count": 5,
   "id": "fb0b0da5",
   "metadata": {},
   "outputs": [
    {
     "name": "stdout",
     "output_type": "stream",
     "text": [
      "[+] Total Internal links: 539\n",
      "[+] Total External links: 56\n",
      "[+] Total URLs: 595\n"
     ]
    }
   ],
   "source": [
    "print(\"[+] Total Internal links:\", len(internal_urls))\n",
    "print(\"[+] Total External links:\", len(external_urls))\n",
    "print(\"[+] Total URLs:\", len(external_urls) + len(internal_urls))"
   ]
  },
  {
   "cell_type": "markdown",
   "id": "6a3f15ab",
   "metadata": {},
   "source": [
    "### Analysis\n",
    "Based on the ..."
   ]
  },
  {
   "cell_type": "markdown",
   "id": "e911e6c3",
   "metadata": {},
   "source": [
    "### Web scraping\n",
    "\n",
    "Choose one of the genres “समाचार\", “बिचार/ब्लग\", “मनोरञ्जन\", “बिजनेस\", “खेलकुद\" etc. and scrap\n",
    "data from 5 Nepali online news websites for the last six months. Remove Nepali\n",
    "stopwords from the scrapped text. Compute the term frequencies of the top\n",
    "twenty terms/words in each of these genres and display the information in the\n",
    "form of a graph."
   ]
  },
  {
   "cell_type": "markdown",
   "id": "5d8f39ab",
   "metadata": {},
   "source": [
    "### Here, we have identified the \"technology\" section's link of 5 online news portals."
   ]
  },
  {
   "cell_type": "code",
   "execution_count": 6,
   "id": "20682b55",
   "metadata": {},
   "outputs": [],
   "source": [
    "ekantipur_url = 'https://ekantipur.com/technology'\n",
    "onlinekhabar_url = 'https://www.onlinekhabar.com/content/business/technology'\n",
    "ratopati_url = 'https://www.ratopati.com/category/knowledge-science'\n",
    "setopati_url = 'https://www.setopati.com/kinmel/information-technology/'\n",
    "reportersnepal_url = 'https://www.reportersnepal.com/category/technology'"
   ]
  },
  {
   "cell_type": "code",
   "execution_count": 7,
   "id": "43cd5e38",
   "metadata": {},
   "outputs": [],
   "source": [
    "import requests\n",
    "from bs4 import BeautifulSoup"
   ]
  },
  {
   "cell_type": "code",
   "execution_count": 8,
   "id": "0c4579e6",
   "metadata": {},
   "outputs": [],
   "source": [
    "def write_file(line):\n",
    "    file_object = open('corpus.txt', 'a')\n",
    "    file_object.write(line.get_text())\n",
    "    file_object.close()"
   ]
  },
  {
   "cell_type": "code",
   "execution_count": 9,
   "id": "9d160c3b",
   "metadata": {},
   "outputs": [],
   "source": [
    "for each in BeautifulSoup(requests.get(ekantipur_url).text, 'html.parser').find_all('p'):\n",
    "    write_file(each)"
   ]
  },
  {
   "cell_type": "code",
   "execution_count": 10,
   "id": "7795479a",
   "metadata": {},
   "outputs": [],
   "source": [
    "for each in BeautifulSoup(requests.get(onlinekhabar_url).text, 'html.parser').find_all('h2'):\n",
    "    write_file(each)"
   ]
  },
  {
   "cell_type": "code",
   "execution_count": 11,
   "id": "a1f24349",
   "metadata": {},
   "outputs": [],
   "source": [
    "for each in BeautifulSoup(requests.get(ratopati_url).text, 'html.parser').find_all('p'):\n",
    "    write_file(each)"
   ]
  },
  {
   "cell_type": "code",
   "execution_count": 12,
   "id": "27e503ae",
   "metadata": {},
   "outputs": [],
   "source": [
    "for each in BeautifulSoup(requests.get(reportersnepal_url).text, 'html.parser').find_all('p'):\n",
    "    write_file(each)"
   ]
  },
  {
   "cell_type": "code",
   "execution_count": 13,
   "id": "268c2484",
   "metadata": {},
   "outputs": [],
   "source": [
    "for each in BeautifulSoup(requests.get(setopati_url).text, 'html.parser').find_all(\"span\", class_=\"main-title\"):\n",
    "    write_file(each)"
   ]
  },
  {
   "cell_type": "markdown",
   "id": "b6293f73",
   "metadata": {},
   "source": [
    "### Analysing the words"
   ]
  },
  {
   "cell_type": "code",
   "execution_count": 41,
   "id": "76abac05",
   "metadata": {},
   "outputs": [],
   "source": [
    "from collections import Counter, OrderedDict\n",
    "word_list = open(\"corpus.txt\", \"r\").read().split()\n",
    "word_dict = Counter(word_list)"
   ]
  },
  {
   "cell_type": "code",
   "execution_count": 42,
   "id": "d99902ce",
   "metadata": {},
   "outputs": [],
   "source": [
    "stop_word_list = open(\"stopwords.txt\", \"r\").read().split()\n",
    "stop_word_dict = Counter(stop_word_list)"
   ]
  },
  {
   "cell_type": "code",
   "execution_count": 65,
   "id": "bad7b118",
   "metadata": {},
   "outputs": [
    {
     "data": {
      "text/plain": [
       "[('।', 110),\n",
       " ('अन्तरिक्ष', 12),\n",
       " ('कम्पनी', 11),\n",
       " ('नेपाल', 11),\n",
       " ('सन्', 10),\n",
       " ('तथा', 10),\n",
       " ('गर्नुहोस्', 9),\n",
       " ('स्पेस', 9),\n",
       " ('प्रक्षेपण', 8),\n",
       " ('गर्ने', 8),\n",
       " ('मस्कको', 7),\n",
       " ('एउटा', 7),\n",
       " ('हुन्', 7),\n",
       " ('हुने', 7),\n",
       " (':', 7),\n",
       " ('परीक्षण', 7),\n",
       " ('वर्ष', 6),\n",
       " ('अमेरिकी', 6),\n",
       " ('सबैभन्दा', 6),\n",
       " ('मोबाइल', 6),\n",
       " ('प्रकाशित', 5),\n",
       " ('वर्षको', 5)]"
      ]
     },
     "execution_count": 65,
     "metadata": {},
     "output_type": "execute_result"
    }
   ],
   "source": [
    "c = {k:v for k,v in word_dict.items() if k not in stop_word_dict}\n",
    "top_counts = Counter(c).most_common()[:22]\n",
    "top_counts"
   ]
  },
  {
   "cell_type": "markdown",
   "id": "42ad27ad",
   "metadata": {},
   "source": [
    "Minor cleaning"
   ]
  },
  {
   "cell_type": "code",
   "execution_count": 66,
   "id": "a8da7ccf",
   "metadata": {},
   "outputs": [
    {
     "data": {
      "text/plain": [
       "(':', 7)"
      ]
     },
     "execution_count": 66,
     "metadata": {},
     "output_type": "execute_result"
    }
   ],
   "source": [
    "top_counts.pop(0)\n",
    "top_counts.pop(13)"
   ]
  },
  {
   "cell_type": "code",
   "execution_count": 67,
   "id": "16cf21cd",
   "metadata": {},
   "outputs": [
    {
     "data": {
      "text/plain": [
       "[('अन्तरिक्ष', 12),\n",
       " ('कम्पनी', 11),\n",
       " ('नेपाल', 11),\n",
       " ('सन्', 10),\n",
       " ('तथा', 10),\n",
       " ('गर्नुहोस्', 9),\n",
       " ('स्पेस', 9),\n",
       " ('प्रक्षेपण', 8),\n",
       " ('गर्ने', 8),\n",
       " ('मस्कको', 7),\n",
       " ('एउटा', 7),\n",
       " ('हुन्', 7),\n",
       " ('हुने', 7),\n",
       " ('परीक्षण', 7),\n",
       " ('वर्ष', 6),\n",
       " ('अमेरिकी', 6),\n",
       " ('सबैभन्दा', 6),\n",
       " ('मोबाइल', 6),\n",
       " ('प्रकाशित', 5),\n",
       " ('वर्षको', 5)]"
      ]
     },
     "execution_count": 67,
     "metadata": {},
     "output_type": "execute_result"
    }
   ],
   "source": [
    "top_counts"
   ]
  },
  {
   "cell_type": "markdown",
   "id": "4551d0dc",
   "metadata": {},
   "source": [
    "## Plotting the top 20 words"
   ]
  },
  {
   "cell_type": "code",
   "execution_count": 83,
   "id": "98256091",
   "metadata": {},
   "outputs": [
    {
     "data": {
      "application/vnd.plotly.v1+json": {
       "config": {
        "plotlyServerURL": "https://plot.ly"
       },
       "data": [
        {
         "alignmentgroup": "True",
         "hovertemplate": "x=%{x}<br>y=%{y}<extra></extra>",
         "legendgroup": "",
         "marker": {
          "color": "#636efa",
          "pattern": {
           "shape": ""
          }
         },
         "name": "",
         "offsetgroup": "",
         "orientation": "v",
         "showlegend": false,
         "textposition": "auto",
         "type": "bar",
         "x": [
          "अन्तरिक्ष",
          "कम्पनी",
          "नेपाल",
          "सन्",
          "तथा",
          "गर्नुहोस्",
          "स्पेस",
          "प्रक्षेपण",
          "गर्ने",
          "मस्कको",
          "एउटा",
          "हुन्",
          "हुने",
          "परीक्षण",
          "वर्ष",
          "अमेरिकी",
          "सबैभन्दा",
          "मोबाइल",
          "प्रकाशित",
          "वर्षको"
         ],
         "xaxis": "x",
         "y": [
          12,
          11,
          11,
          10,
          10,
          9,
          9,
          8,
          8,
          7,
          7,
          7,
          7,
          7,
          6,
          6,
          6,
          6,
          5,
          5
         ],
         "yaxis": "y"
        }
       ],
       "layout": {
        "barmode": "relative",
        "legend": {
         "tracegroupgap": 0
        },
        "template": {
         "data": {
          "bar": [
           {
            "error_x": {
             "color": "#2a3f5f"
            },
            "error_y": {
             "color": "#2a3f5f"
            },
            "marker": {
             "line": {
              "color": "#E5ECF6",
              "width": 0.5
             },
             "pattern": {
              "fillmode": "overlay",
              "size": 10,
              "solidity": 0.2
             }
            },
            "type": "bar"
           }
          ],
          "barpolar": [
           {
            "marker": {
             "line": {
              "color": "#E5ECF6",
              "width": 0.5
             },
             "pattern": {
              "fillmode": "overlay",
              "size": 10,
              "solidity": 0.2
             }
            },
            "type": "barpolar"
           }
          ],
          "carpet": [
           {
            "aaxis": {
             "endlinecolor": "#2a3f5f",
             "gridcolor": "white",
             "linecolor": "white",
             "minorgridcolor": "white",
             "startlinecolor": "#2a3f5f"
            },
            "baxis": {
             "endlinecolor": "#2a3f5f",
             "gridcolor": "white",
             "linecolor": "white",
             "minorgridcolor": "white",
             "startlinecolor": "#2a3f5f"
            },
            "type": "carpet"
           }
          ],
          "choropleth": [
           {
            "colorbar": {
             "outlinewidth": 0,
             "ticks": ""
            },
            "type": "choropleth"
           }
          ],
          "contour": [
           {
            "colorbar": {
             "outlinewidth": 0,
             "ticks": ""
            },
            "colorscale": [
             [
              0,
              "#0d0887"
             ],
             [
              0.1111111111111111,
              "#46039f"
             ],
             [
              0.2222222222222222,
              "#7201a8"
             ],
             [
              0.3333333333333333,
              "#9c179e"
             ],
             [
              0.4444444444444444,
              "#bd3786"
             ],
             [
              0.5555555555555556,
              "#d8576b"
             ],
             [
              0.6666666666666666,
              "#ed7953"
             ],
             [
              0.7777777777777778,
              "#fb9f3a"
             ],
             [
              0.8888888888888888,
              "#fdca26"
             ],
             [
              1,
              "#f0f921"
             ]
            ],
            "type": "contour"
           }
          ],
          "contourcarpet": [
           {
            "colorbar": {
             "outlinewidth": 0,
             "ticks": ""
            },
            "type": "contourcarpet"
           }
          ],
          "heatmap": [
           {
            "colorbar": {
             "outlinewidth": 0,
             "ticks": ""
            },
            "colorscale": [
             [
              0,
              "#0d0887"
             ],
             [
              0.1111111111111111,
              "#46039f"
             ],
             [
              0.2222222222222222,
              "#7201a8"
             ],
             [
              0.3333333333333333,
              "#9c179e"
             ],
             [
              0.4444444444444444,
              "#bd3786"
             ],
             [
              0.5555555555555556,
              "#d8576b"
             ],
             [
              0.6666666666666666,
              "#ed7953"
             ],
             [
              0.7777777777777778,
              "#fb9f3a"
             ],
             [
              0.8888888888888888,
              "#fdca26"
             ],
             [
              1,
              "#f0f921"
             ]
            ],
            "type": "heatmap"
           }
          ],
          "heatmapgl": [
           {
            "colorbar": {
             "outlinewidth": 0,
             "ticks": ""
            },
            "colorscale": [
             [
              0,
              "#0d0887"
             ],
             [
              0.1111111111111111,
              "#46039f"
             ],
             [
              0.2222222222222222,
              "#7201a8"
             ],
             [
              0.3333333333333333,
              "#9c179e"
             ],
             [
              0.4444444444444444,
              "#bd3786"
             ],
             [
              0.5555555555555556,
              "#d8576b"
             ],
             [
              0.6666666666666666,
              "#ed7953"
             ],
             [
              0.7777777777777778,
              "#fb9f3a"
             ],
             [
              0.8888888888888888,
              "#fdca26"
             ],
             [
              1,
              "#f0f921"
             ]
            ],
            "type": "heatmapgl"
           }
          ],
          "histogram": [
           {
            "marker": {
             "pattern": {
              "fillmode": "overlay",
              "size": 10,
              "solidity": 0.2
             }
            },
            "type": "histogram"
           }
          ],
          "histogram2d": [
           {
            "colorbar": {
             "outlinewidth": 0,
             "ticks": ""
            },
            "colorscale": [
             [
              0,
              "#0d0887"
             ],
             [
              0.1111111111111111,
              "#46039f"
             ],
             [
              0.2222222222222222,
              "#7201a8"
             ],
             [
              0.3333333333333333,
              "#9c179e"
             ],
             [
              0.4444444444444444,
              "#bd3786"
             ],
             [
              0.5555555555555556,
              "#d8576b"
             ],
             [
              0.6666666666666666,
              "#ed7953"
             ],
             [
              0.7777777777777778,
              "#fb9f3a"
             ],
             [
              0.8888888888888888,
              "#fdca26"
             ],
             [
              1,
              "#f0f921"
             ]
            ],
            "type": "histogram2d"
           }
          ],
          "histogram2dcontour": [
           {
            "colorbar": {
             "outlinewidth": 0,
             "ticks": ""
            },
            "colorscale": [
             [
              0,
              "#0d0887"
             ],
             [
              0.1111111111111111,
              "#46039f"
             ],
             [
              0.2222222222222222,
              "#7201a8"
             ],
             [
              0.3333333333333333,
              "#9c179e"
             ],
             [
              0.4444444444444444,
              "#bd3786"
             ],
             [
              0.5555555555555556,
              "#d8576b"
             ],
             [
              0.6666666666666666,
              "#ed7953"
             ],
             [
              0.7777777777777778,
              "#fb9f3a"
             ],
             [
              0.8888888888888888,
              "#fdca26"
             ],
             [
              1,
              "#f0f921"
             ]
            ],
            "type": "histogram2dcontour"
           }
          ],
          "mesh3d": [
           {
            "colorbar": {
             "outlinewidth": 0,
             "ticks": ""
            },
            "type": "mesh3d"
           }
          ],
          "parcoords": [
           {
            "line": {
             "colorbar": {
              "outlinewidth": 0,
              "ticks": ""
             }
            },
            "type": "parcoords"
           }
          ],
          "pie": [
           {
            "automargin": true,
            "type": "pie"
           }
          ],
          "scatter": [
           {
            "marker": {
             "colorbar": {
              "outlinewidth": 0,
              "ticks": ""
             }
            },
            "type": "scatter"
           }
          ],
          "scatter3d": [
           {
            "line": {
             "colorbar": {
              "outlinewidth": 0,
              "ticks": ""
             }
            },
            "marker": {
             "colorbar": {
              "outlinewidth": 0,
              "ticks": ""
             }
            },
            "type": "scatter3d"
           }
          ],
          "scattercarpet": [
           {
            "marker": {
             "colorbar": {
              "outlinewidth": 0,
              "ticks": ""
             }
            },
            "type": "scattercarpet"
           }
          ],
          "scattergeo": [
           {
            "marker": {
             "colorbar": {
              "outlinewidth": 0,
              "ticks": ""
             }
            },
            "type": "scattergeo"
           }
          ],
          "scattergl": [
           {
            "marker": {
             "colorbar": {
              "outlinewidth": 0,
              "ticks": ""
             }
            },
            "type": "scattergl"
           }
          ],
          "scattermapbox": [
           {
            "marker": {
             "colorbar": {
              "outlinewidth": 0,
              "ticks": ""
             }
            },
            "type": "scattermapbox"
           }
          ],
          "scatterpolar": [
           {
            "marker": {
             "colorbar": {
              "outlinewidth": 0,
              "ticks": ""
             }
            },
            "type": "scatterpolar"
           }
          ],
          "scatterpolargl": [
           {
            "marker": {
             "colorbar": {
              "outlinewidth": 0,
              "ticks": ""
             }
            },
            "type": "scatterpolargl"
           }
          ],
          "scatterternary": [
           {
            "marker": {
             "colorbar": {
              "outlinewidth": 0,
              "ticks": ""
             }
            },
            "type": "scatterternary"
           }
          ],
          "surface": [
           {
            "colorbar": {
             "outlinewidth": 0,
             "ticks": ""
            },
            "colorscale": [
             [
              0,
              "#0d0887"
             ],
             [
              0.1111111111111111,
              "#46039f"
             ],
             [
              0.2222222222222222,
              "#7201a8"
             ],
             [
              0.3333333333333333,
              "#9c179e"
             ],
             [
              0.4444444444444444,
              "#bd3786"
             ],
             [
              0.5555555555555556,
              "#d8576b"
             ],
             [
              0.6666666666666666,
              "#ed7953"
             ],
             [
              0.7777777777777778,
              "#fb9f3a"
             ],
             [
              0.8888888888888888,
              "#fdca26"
             ],
             [
              1,
              "#f0f921"
             ]
            ],
            "type": "surface"
           }
          ],
          "table": [
           {
            "cells": {
             "fill": {
              "color": "#EBF0F8"
             },
             "line": {
              "color": "white"
             }
            },
            "header": {
             "fill": {
              "color": "#C8D4E3"
             },
             "line": {
              "color": "white"
             }
            },
            "type": "table"
           }
          ]
         },
         "layout": {
          "annotationdefaults": {
           "arrowcolor": "#2a3f5f",
           "arrowhead": 0,
           "arrowwidth": 1
          },
          "autotypenumbers": "strict",
          "coloraxis": {
           "colorbar": {
            "outlinewidth": 0,
            "ticks": ""
           }
          },
          "colorscale": {
           "diverging": [
            [
             0,
             "#8e0152"
            ],
            [
             0.1,
             "#c51b7d"
            ],
            [
             0.2,
             "#de77ae"
            ],
            [
             0.3,
             "#f1b6da"
            ],
            [
             0.4,
             "#fde0ef"
            ],
            [
             0.5,
             "#f7f7f7"
            ],
            [
             0.6,
             "#e6f5d0"
            ],
            [
             0.7,
             "#b8e186"
            ],
            [
             0.8,
             "#7fbc41"
            ],
            [
             0.9,
             "#4d9221"
            ],
            [
             1,
             "#276419"
            ]
           ],
           "sequential": [
            [
             0,
             "#0d0887"
            ],
            [
             0.1111111111111111,
             "#46039f"
            ],
            [
             0.2222222222222222,
             "#7201a8"
            ],
            [
             0.3333333333333333,
             "#9c179e"
            ],
            [
             0.4444444444444444,
             "#bd3786"
            ],
            [
             0.5555555555555556,
             "#d8576b"
            ],
            [
             0.6666666666666666,
             "#ed7953"
            ],
            [
             0.7777777777777778,
             "#fb9f3a"
            ],
            [
             0.8888888888888888,
             "#fdca26"
            ],
            [
             1,
             "#f0f921"
            ]
           ],
           "sequentialminus": [
            [
             0,
             "#0d0887"
            ],
            [
             0.1111111111111111,
             "#46039f"
            ],
            [
             0.2222222222222222,
             "#7201a8"
            ],
            [
             0.3333333333333333,
             "#9c179e"
            ],
            [
             0.4444444444444444,
             "#bd3786"
            ],
            [
             0.5555555555555556,
             "#d8576b"
            ],
            [
             0.6666666666666666,
             "#ed7953"
            ],
            [
             0.7777777777777778,
             "#fb9f3a"
            ],
            [
             0.8888888888888888,
             "#fdca26"
            ],
            [
             1,
             "#f0f921"
            ]
           ]
          },
          "colorway": [
           "#636efa",
           "#EF553B",
           "#00cc96",
           "#ab63fa",
           "#FFA15A",
           "#19d3f3",
           "#FF6692",
           "#B6E880",
           "#FF97FF",
           "#FECB52"
          ],
          "font": {
           "color": "#2a3f5f"
          },
          "geo": {
           "bgcolor": "white",
           "lakecolor": "white",
           "landcolor": "#E5ECF6",
           "showlakes": true,
           "showland": true,
           "subunitcolor": "white"
          },
          "hoverlabel": {
           "align": "left"
          },
          "hovermode": "closest",
          "mapbox": {
           "style": "light"
          },
          "paper_bgcolor": "white",
          "plot_bgcolor": "#E5ECF6",
          "polar": {
           "angularaxis": {
            "gridcolor": "white",
            "linecolor": "white",
            "ticks": ""
           },
           "bgcolor": "#E5ECF6",
           "radialaxis": {
            "gridcolor": "white",
            "linecolor": "white",
            "ticks": ""
           }
          },
          "scene": {
           "xaxis": {
            "backgroundcolor": "#E5ECF6",
            "gridcolor": "white",
            "gridwidth": 2,
            "linecolor": "white",
            "showbackground": true,
            "ticks": "",
            "zerolinecolor": "white"
           },
           "yaxis": {
            "backgroundcolor": "#E5ECF6",
            "gridcolor": "white",
            "gridwidth": 2,
            "linecolor": "white",
            "showbackground": true,
            "ticks": "",
            "zerolinecolor": "white"
           },
           "zaxis": {
            "backgroundcolor": "#E5ECF6",
            "gridcolor": "white",
            "gridwidth": 2,
            "linecolor": "white",
            "showbackground": true,
            "ticks": "",
            "zerolinecolor": "white"
           }
          },
          "shapedefaults": {
           "line": {
            "color": "#2a3f5f"
           }
          },
          "ternary": {
           "aaxis": {
            "gridcolor": "white",
            "linecolor": "white",
            "ticks": ""
           },
           "baxis": {
            "gridcolor": "white",
            "linecolor": "white",
            "ticks": ""
           },
           "bgcolor": "#E5ECF6",
           "caxis": {
            "gridcolor": "white",
            "linecolor": "white",
            "ticks": ""
           }
          },
          "title": {
           "x": 0.05
          },
          "xaxis": {
           "automargin": true,
           "gridcolor": "white",
           "linecolor": "white",
           "ticks": "",
           "title": {
            "standoff": 15
           },
           "zerolinecolor": "white",
           "zerolinewidth": 2
          },
          "yaxis": {
           "automargin": true,
           "gridcolor": "white",
           "linecolor": "white",
           "ticks": "",
           "title": {
            "standoff": 15
           },
           "zerolinecolor": "white",
           "zerolinewidth": 2
          }
         }
        },
        "title": {
         "text": "Top 20 word count"
        },
        "xaxis": {
         "anchor": "y",
         "domain": [
          0,
          1
         ],
         "title": {
          "text": "x"
         }
        },
        "yaxis": {
         "anchor": "x",
         "domain": [
          0,
          1
         ],
         "title": {
          "text": "y"
         }
        }
       }
      },
      "text/html": [
       "<div>                            <div id=\"35d6a0bf-fa5b-45e2-aa17-cc8f20028bd1\" class=\"plotly-graph-div\" style=\"height:525px; width:100%;\"></div>            <script type=\"text/javascript\">                require([\"plotly\"], function(Plotly) {                    window.PLOTLYENV=window.PLOTLYENV || {};                                    if (document.getElementById(\"35d6a0bf-fa5b-45e2-aa17-cc8f20028bd1\")) {                    Plotly.newPlot(                        \"35d6a0bf-fa5b-45e2-aa17-cc8f20028bd1\",                        [{\"alignmentgroup\":\"True\",\"hovertemplate\":\"x=%{x}<br>y=%{y}<extra></extra>\",\"legendgroup\":\"\",\"marker\":{\"color\":\"#636efa\",\"pattern\":{\"shape\":\"\"}},\"name\":\"\",\"offsetgroup\":\"\",\"orientation\":\"v\",\"showlegend\":false,\"textposition\":\"auto\",\"x\":[\"\\u0905\\u0928\\u094d\\u0924\\u0930\\u093f\\u0915\\u094d\\u0937\",\"\\u0915\\u092e\\u094d\\u092a\\u0928\\u0940\",\"\\u0928\\u0947\\u092a\\u093e\\u0932\",\"\\u0938\\u0928\\u094d\",\"\\u0924\\u0925\\u093e\",\"\\u0917\\u0930\\u094d\\u0928\\u0941\\u0939\\u094b\\u0938\\u094d\",\"\\u0938\\u094d\\u092a\\u0947\\u0938\",\"\\u092a\\u094d\\u0930\\u0915\\u094d\\u0937\\u0947\\u092a\\u0923\",\"\\u0917\\u0930\\u094d\\u0928\\u0947\",\"\\u092e\\u0938\\u094d\\u0915\\u0915\\u094b\",\"\\u090f\\u0909\\u091f\\u093e\",\"\\u0939\\u0941\\u0928\\u094d\",\"\\u0939\\u0941\\u0928\\u0947\",\"\\u092a\\u0930\\u0940\\u0915\\u094d\\u0937\\u0923\",\"\\u0935\\u0930\\u094d\\u0937\",\"\\u0905\\u092e\\u0947\\u0930\\u093f\\u0915\\u0940\",\"\\u0938\\u092c\\u0948\\u092d\\u0928\\u094d\\u0926\\u093e\",\"\\u092e\\u094b\\u092c\\u093e\\u0907\\u0932\",\"\\u092a\\u094d\\u0930\\u0915\\u093e\\u0936\\u093f\\u0924\",\"\\u0935\\u0930\\u094d\\u0937\\u0915\\u094b\"],\"xaxis\":\"x\",\"y\":[12,11,11,10,10,9,9,8,8,7,7,7,7,7,6,6,6,6,5,5],\"yaxis\":\"y\",\"type\":\"bar\"}],                        {\"template\":{\"data\":{\"bar\":[{\"error_x\":{\"color\":\"#2a3f5f\"},\"error_y\":{\"color\":\"#2a3f5f\"},\"marker\":{\"line\":{\"color\":\"#E5ECF6\",\"width\":0.5},\"pattern\":{\"fillmode\":\"overlay\",\"size\":10,\"solidity\":0.2}},\"type\":\"bar\"}],\"barpolar\":[{\"marker\":{\"line\":{\"color\":\"#E5ECF6\",\"width\":0.5},\"pattern\":{\"fillmode\":\"overlay\",\"size\":10,\"solidity\":0.2}},\"type\":\"barpolar\"}],\"carpet\":[{\"aaxis\":{\"endlinecolor\":\"#2a3f5f\",\"gridcolor\":\"white\",\"linecolor\":\"white\",\"minorgridcolor\":\"white\",\"startlinecolor\":\"#2a3f5f\"},\"baxis\":{\"endlinecolor\":\"#2a3f5f\",\"gridcolor\":\"white\",\"linecolor\":\"white\",\"minorgridcolor\":\"white\",\"startlinecolor\":\"#2a3f5f\"},\"type\":\"carpet\"}],\"choropleth\":[{\"colorbar\":{\"outlinewidth\":0,\"ticks\":\"\"},\"type\":\"choropleth\"}],\"contour\":[{\"colorbar\":{\"outlinewidth\":0,\"ticks\":\"\"},\"colorscale\":[[0.0,\"#0d0887\"],[0.1111111111111111,\"#46039f\"],[0.2222222222222222,\"#7201a8\"],[0.3333333333333333,\"#9c179e\"],[0.4444444444444444,\"#bd3786\"],[0.5555555555555556,\"#d8576b\"],[0.6666666666666666,\"#ed7953\"],[0.7777777777777778,\"#fb9f3a\"],[0.8888888888888888,\"#fdca26\"],[1.0,\"#f0f921\"]],\"type\":\"contour\"}],\"contourcarpet\":[{\"colorbar\":{\"outlinewidth\":0,\"ticks\":\"\"},\"type\":\"contourcarpet\"}],\"heatmap\":[{\"colorbar\":{\"outlinewidth\":0,\"ticks\":\"\"},\"colorscale\":[[0.0,\"#0d0887\"],[0.1111111111111111,\"#46039f\"],[0.2222222222222222,\"#7201a8\"],[0.3333333333333333,\"#9c179e\"],[0.4444444444444444,\"#bd3786\"],[0.5555555555555556,\"#d8576b\"],[0.6666666666666666,\"#ed7953\"],[0.7777777777777778,\"#fb9f3a\"],[0.8888888888888888,\"#fdca26\"],[1.0,\"#f0f921\"]],\"type\":\"heatmap\"}],\"heatmapgl\":[{\"colorbar\":{\"outlinewidth\":0,\"ticks\":\"\"},\"colorscale\":[[0.0,\"#0d0887\"],[0.1111111111111111,\"#46039f\"],[0.2222222222222222,\"#7201a8\"],[0.3333333333333333,\"#9c179e\"],[0.4444444444444444,\"#bd3786\"],[0.5555555555555556,\"#d8576b\"],[0.6666666666666666,\"#ed7953\"],[0.7777777777777778,\"#fb9f3a\"],[0.8888888888888888,\"#fdca26\"],[1.0,\"#f0f921\"]],\"type\":\"heatmapgl\"}],\"histogram\":[{\"marker\":{\"pattern\":{\"fillmode\":\"overlay\",\"size\":10,\"solidity\":0.2}},\"type\":\"histogram\"}],\"histogram2d\":[{\"colorbar\":{\"outlinewidth\":0,\"ticks\":\"\"},\"colorscale\":[[0.0,\"#0d0887\"],[0.1111111111111111,\"#46039f\"],[0.2222222222222222,\"#7201a8\"],[0.3333333333333333,\"#9c179e\"],[0.4444444444444444,\"#bd3786\"],[0.5555555555555556,\"#d8576b\"],[0.6666666666666666,\"#ed7953\"],[0.7777777777777778,\"#fb9f3a\"],[0.8888888888888888,\"#fdca26\"],[1.0,\"#f0f921\"]],\"type\":\"histogram2d\"}],\"histogram2dcontour\":[{\"colorbar\":{\"outlinewidth\":0,\"ticks\":\"\"},\"colorscale\":[[0.0,\"#0d0887\"],[0.1111111111111111,\"#46039f\"],[0.2222222222222222,\"#7201a8\"],[0.3333333333333333,\"#9c179e\"],[0.4444444444444444,\"#bd3786\"],[0.5555555555555556,\"#d8576b\"],[0.6666666666666666,\"#ed7953\"],[0.7777777777777778,\"#fb9f3a\"],[0.8888888888888888,\"#fdca26\"],[1.0,\"#f0f921\"]],\"type\":\"histogram2dcontour\"}],\"mesh3d\":[{\"colorbar\":{\"outlinewidth\":0,\"ticks\":\"\"},\"type\":\"mesh3d\"}],\"parcoords\":[{\"line\":{\"colorbar\":{\"outlinewidth\":0,\"ticks\":\"\"}},\"type\":\"parcoords\"}],\"pie\":[{\"automargin\":true,\"type\":\"pie\"}],\"scatter\":[{\"marker\":{\"colorbar\":{\"outlinewidth\":0,\"ticks\":\"\"}},\"type\":\"scatter\"}],\"scatter3d\":[{\"line\":{\"colorbar\":{\"outlinewidth\":0,\"ticks\":\"\"}},\"marker\":{\"colorbar\":{\"outlinewidth\":0,\"ticks\":\"\"}},\"type\":\"scatter3d\"}],\"scattercarpet\":[{\"marker\":{\"colorbar\":{\"outlinewidth\":0,\"ticks\":\"\"}},\"type\":\"scattercarpet\"}],\"scattergeo\":[{\"marker\":{\"colorbar\":{\"outlinewidth\":0,\"ticks\":\"\"}},\"type\":\"scattergeo\"}],\"scattergl\":[{\"marker\":{\"colorbar\":{\"outlinewidth\":0,\"ticks\":\"\"}},\"type\":\"scattergl\"}],\"scattermapbox\":[{\"marker\":{\"colorbar\":{\"outlinewidth\":0,\"ticks\":\"\"}},\"type\":\"scattermapbox\"}],\"scatterpolar\":[{\"marker\":{\"colorbar\":{\"outlinewidth\":0,\"ticks\":\"\"}},\"type\":\"scatterpolar\"}],\"scatterpolargl\":[{\"marker\":{\"colorbar\":{\"outlinewidth\":0,\"ticks\":\"\"}},\"type\":\"scatterpolargl\"}],\"scatterternary\":[{\"marker\":{\"colorbar\":{\"outlinewidth\":0,\"ticks\":\"\"}},\"type\":\"scatterternary\"}],\"surface\":[{\"colorbar\":{\"outlinewidth\":0,\"ticks\":\"\"},\"colorscale\":[[0.0,\"#0d0887\"],[0.1111111111111111,\"#46039f\"],[0.2222222222222222,\"#7201a8\"],[0.3333333333333333,\"#9c179e\"],[0.4444444444444444,\"#bd3786\"],[0.5555555555555556,\"#d8576b\"],[0.6666666666666666,\"#ed7953\"],[0.7777777777777778,\"#fb9f3a\"],[0.8888888888888888,\"#fdca26\"],[1.0,\"#f0f921\"]],\"type\":\"surface\"}],\"table\":[{\"cells\":{\"fill\":{\"color\":\"#EBF0F8\"},\"line\":{\"color\":\"white\"}},\"header\":{\"fill\":{\"color\":\"#C8D4E3\"},\"line\":{\"color\":\"white\"}},\"type\":\"table\"}]},\"layout\":{\"annotationdefaults\":{\"arrowcolor\":\"#2a3f5f\",\"arrowhead\":0,\"arrowwidth\":1},\"autotypenumbers\":\"strict\",\"coloraxis\":{\"colorbar\":{\"outlinewidth\":0,\"ticks\":\"\"}},\"colorscale\":{\"diverging\":[[0,\"#8e0152\"],[0.1,\"#c51b7d\"],[0.2,\"#de77ae\"],[0.3,\"#f1b6da\"],[0.4,\"#fde0ef\"],[0.5,\"#f7f7f7\"],[0.6,\"#e6f5d0\"],[0.7,\"#b8e186\"],[0.8,\"#7fbc41\"],[0.9,\"#4d9221\"],[1,\"#276419\"]],\"sequential\":[[0.0,\"#0d0887\"],[0.1111111111111111,\"#46039f\"],[0.2222222222222222,\"#7201a8\"],[0.3333333333333333,\"#9c179e\"],[0.4444444444444444,\"#bd3786\"],[0.5555555555555556,\"#d8576b\"],[0.6666666666666666,\"#ed7953\"],[0.7777777777777778,\"#fb9f3a\"],[0.8888888888888888,\"#fdca26\"],[1.0,\"#f0f921\"]],\"sequentialminus\":[[0.0,\"#0d0887\"],[0.1111111111111111,\"#46039f\"],[0.2222222222222222,\"#7201a8\"],[0.3333333333333333,\"#9c179e\"],[0.4444444444444444,\"#bd3786\"],[0.5555555555555556,\"#d8576b\"],[0.6666666666666666,\"#ed7953\"],[0.7777777777777778,\"#fb9f3a\"],[0.8888888888888888,\"#fdca26\"],[1.0,\"#f0f921\"]]},\"colorway\":[\"#636efa\",\"#EF553B\",\"#00cc96\",\"#ab63fa\",\"#FFA15A\",\"#19d3f3\",\"#FF6692\",\"#B6E880\",\"#FF97FF\",\"#FECB52\"],\"font\":{\"color\":\"#2a3f5f\"},\"geo\":{\"bgcolor\":\"white\",\"lakecolor\":\"white\",\"landcolor\":\"#E5ECF6\",\"showlakes\":true,\"showland\":true,\"subunitcolor\":\"white\"},\"hoverlabel\":{\"align\":\"left\"},\"hovermode\":\"closest\",\"mapbox\":{\"style\":\"light\"},\"paper_bgcolor\":\"white\",\"plot_bgcolor\":\"#E5ECF6\",\"polar\":{\"angularaxis\":{\"gridcolor\":\"white\",\"linecolor\":\"white\",\"ticks\":\"\"},\"bgcolor\":\"#E5ECF6\",\"radialaxis\":{\"gridcolor\":\"white\",\"linecolor\":\"white\",\"ticks\":\"\"}},\"scene\":{\"xaxis\":{\"backgroundcolor\":\"#E5ECF6\",\"gridcolor\":\"white\",\"gridwidth\":2,\"linecolor\":\"white\",\"showbackground\":true,\"ticks\":\"\",\"zerolinecolor\":\"white\"},\"yaxis\":{\"backgroundcolor\":\"#E5ECF6\",\"gridcolor\":\"white\",\"gridwidth\":2,\"linecolor\":\"white\",\"showbackground\":true,\"ticks\":\"\",\"zerolinecolor\":\"white\"},\"zaxis\":{\"backgroundcolor\":\"#E5ECF6\",\"gridcolor\":\"white\",\"gridwidth\":2,\"linecolor\":\"white\",\"showbackground\":true,\"ticks\":\"\",\"zerolinecolor\":\"white\"}},\"shapedefaults\":{\"line\":{\"color\":\"#2a3f5f\"}},\"ternary\":{\"aaxis\":{\"gridcolor\":\"white\",\"linecolor\":\"white\",\"ticks\":\"\"},\"baxis\":{\"gridcolor\":\"white\",\"linecolor\":\"white\",\"ticks\":\"\"},\"bgcolor\":\"#E5ECF6\",\"caxis\":{\"gridcolor\":\"white\",\"linecolor\":\"white\",\"ticks\":\"\"}},\"title\":{\"x\":0.05},\"xaxis\":{\"automargin\":true,\"gridcolor\":\"white\",\"linecolor\":\"white\",\"ticks\":\"\",\"title\":{\"standoff\":15},\"zerolinecolor\":\"white\",\"zerolinewidth\":2},\"yaxis\":{\"automargin\":true,\"gridcolor\":\"white\",\"linecolor\":\"white\",\"ticks\":\"\",\"title\":{\"standoff\":15},\"zerolinecolor\":\"white\",\"zerolinewidth\":2}}},\"xaxis\":{\"anchor\":\"y\",\"domain\":[0.0,1.0],\"title\":{\"text\":\"x\"}},\"yaxis\":{\"anchor\":\"x\",\"domain\":[0.0,1.0],\"title\":{\"text\":\"y\"}},\"legend\":{\"tracegroupgap\":0},\"title\":{\"text\":\"Top 20 word count\"},\"barmode\":\"relative\"},                        {\"responsive\": true}                    ).then(function(){\n",
       "                            \n",
       "var gd = document.getElementById('35d6a0bf-fa5b-45e2-aa17-cc8f20028bd1');\n",
       "var x = new MutationObserver(function (mutations, observer) {{\n",
       "        var display = window.getComputedStyle(gd).display;\n",
       "        if (!display || display === 'none') {{\n",
       "            console.log([gd, 'removed!']);\n",
       "            Plotly.purge(gd);\n",
       "            observer.disconnect();\n",
       "        }}\n",
       "}});\n",
       "\n",
       "// Listen for the removal of the full notebook cells\n",
       "var notebookContainer = gd.closest('#notebook-container');\n",
       "if (notebookContainer) {{\n",
       "    x.observe(notebookContainer, {childList: true});\n",
       "}}\n",
       "\n",
       "// Listen for the clearing of the current output cell\n",
       "var outputEl = gd.closest('.output');\n",
       "if (outputEl) {{\n",
       "    x.observe(outputEl, {childList: true});\n",
       "}}\n",
       "\n",
       "                        })                };                });            </script>        </div>"
      ]
     },
     "metadata": {},
     "output_type": "display_data"
    }
   ],
   "source": [
    "import plotly.express as px\n",
    " \n",
    "x_axis, y_axis = [], []\n",
    "\n",
    "for each in top_counts:\n",
    "    x_axis.append(each[0])\n",
    "    y_axis.append(each[1])\n",
    "\n",
    "\n",
    "fig = px.bar(x=x_axis, y = y_axis, title='Top 20 word count')\n",
    "\n",
    "fig.show()"
   ]
  },
  {
   "cell_type": "code",
   "execution_count": null,
   "id": "ac0bfab9",
   "metadata": {},
   "outputs": [],
   "source": []
  }
 ],
 "metadata": {
  "kernelspec": {
   "display_name": "datascience",
   "language": "python",
   "name": "datascience"
  },
  "language_info": {
   "codemirror_mode": {
    "name": "ipython",
    "version": 3
   },
   "file_extension": ".py",
   "mimetype": "text/x-python",
   "name": "python",
   "nbconvert_exporter": "python",
   "pygments_lexer": "ipython3",
   "version": "3.8.10"
  }
 },
 "nbformat": 4,
 "nbformat_minor": 5
}
